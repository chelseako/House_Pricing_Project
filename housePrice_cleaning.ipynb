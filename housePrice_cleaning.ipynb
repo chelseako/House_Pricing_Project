{
 "cells": [
  {
   "cell_type": "code",
   "execution_count": 1,
   "id": "026141e9",
   "metadata": {},
   "outputs": [],
   "source": [
    "import numpy as np\n",
    "import pandas as pd\n",
    "import re"
   ]
  },
  {
   "cell_type": "code",
   "execution_count": 2,
   "id": "f27481e6",
   "metadata": {},
   "outputs": [],
   "source": [
    "houses = pd.read_csv(\"housing.csv\")"
   ]
  },
  {
   "cell_type": "code",
   "execution_count": 3,
   "id": "cd8156fb",
   "metadata": {},
   "outputs": [
    {
     "data": {
      "text/html": [
       "<div>\n",
       "<style scoped>\n",
       "    .dataframe tbody tr th:only-of-type {\n",
       "        vertical-align: middle;\n",
       "    }\n",
       "\n",
       "    .dataframe tbody tr th {\n",
       "        vertical-align: top;\n",
       "    }\n",
       "\n",
       "    .dataframe thead th {\n",
       "        text-align: right;\n",
       "    }\n",
       "</style>\n",
       "<table border=\"1\" class=\"dataframe\">\n",
       "  <thead>\n",
       "    <tr style=\"text-align: right;\">\n",
       "      <th></th>\n",
       "      <th>Land</th>\n",
       "      <th>Open</th>\n",
       "      <th>CPR</th>\n",
       "      <th>Photos</th>\n",
       "      <th>Status</th>\n",
       "      <th>MLS#</th>\n",
       "      <th>Price</th>\n",
       "      <th>Original Price</th>\n",
       "      <th>$ Change</th>\n",
       "      <th>% Change</th>\n",
       "      <th>...</th>\n",
       "      <th>View</th>\n",
       "      <th>Frontage</th>\n",
       "      <th>Pool</th>\n",
       "      <th>Parking</th>\n",
       "      <th>Flooring</th>\n",
       "      <th>Roofing</th>\n",
       "      <th>Roads</th>\n",
       "      <th>Easements</th>\n",
       "      <th>Topography</th>\n",
       "      <th>Stories</th>\n",
       "    </tr>\n",
       "  </thead>\n",
       "  <tbody>\n",
       "    <tr>\n",
       "      <th>0</th>\n",
       "      <td>FS</td>\n",
       "      <td>NaN</td>\n",
       "      <td>NaN</td>\n",
       "      <td>14</td>\n",
       "      <td>Sold</td>\n",
       "      <td>202126770</td>\n",
       "      <td>799000</td>\n",
       "      <td>799000</td>\n",
       "      <td>0</td>\n",
       "      <td>0.0000</td>\n",
       "      <td>...</td>\n",
       "      <td>Garden</td>\n",
       "      <td>NaN</td>\n",
       "      <td>None</td>\n",
       "      <td>2 Car,Garage,Street</td>\n",
       "      <td>Laminate,W/W Carpet</td>\n",
       "      <td>Asphalt Shingle</td>\n",
       "      <td>County Rd,Paved Rd</td>\n",
       "      <td>None</td>\n",
       "      <td>Level</td>\n",
       "      <td>Two</td>\n",
       "    </tr>\n",
       "    <tr>\n",
       "      <th>1</th>\n",
       "      <td>FS</td>\n",
       "      <td>NaN</td>\n",
       "      <td>NaN</td>\n",
       "      <td>7</td>\n",
       "      <td>Sold</td>\n",
       "      <td>202128502</td>\n",
       "      <td>875000</td>\n",
       "      <td>875000</td>\n",
       "      <td>0</td>\n",
       "      <td>0.0000</td>\n",
       "      <td>...</td>\n",
       "      <td>Mountain</td>\n",
       "      <td>NaN</td>\n",
       "      <td>None</td>\n",
       "      <td>3 Car+</td>\n",
       "      <td>Ceramic Tile,Hardwood,Vinyl</td>\n",
       "      <td>Composition</td>\n",
       "      <td>County Rd,Paved Rd,Private Rd</td>\n",
       "      <td>Electric,Other</td>\n",
       "      <td>Down Slope,Level</td>\n",
       "      <td>One</td>\n",
       "    </tr>\n",
       "    <tr>\n",
       "      <th>2</th>\n",
       "      <td>FS</td>\n",
       "      <td>NaN</td>\n",
       "      <td>NaN</td>\n",
       "      <td>25</td>\n",
       "      <td>Sold</td>\n",
       "      <td>202129166</td>\n",
       "      <td>899000</td>\n",
       "      <td>899000</td>\n",
       "      <td>0</td>\n",
       "      <td>0.0000</td>\n",
       "      <td>...</td>\n",
       "      <td>City,Mountain,Other</td>\n",
       "      <td>NaN</td>\n",
       "      <td>None</td>\n",
       "      <td>2 Car</td>\n",
       "      <td>Laminate,Other</td>\n",
       "      <td>Asphalt Shingle</td>\n",
       "      <td>County Rd,Paved Rd</td>\n",
       "      <td>None</td>\n",
       "      <td>Level</td>\n",
       "      <td>One</td>\n",
       "    </tr>\n",
       "    <tr>\n",
       "      <th>3</th>\n",
       "      <td>FS</td>\n",
       "      <td>NaN</td>\n",
       "      <td>NaN</td>\n",
       "      <td>23</td>\n",
       "      <td>Sold</td>\n",
       "      <td>202126722</td>\n",
       "      <td>950000</td>\n",
       "      <td>950000</td>\n",
       "      <td>0</td>\n",
       "      <td>0.0000</td>\n",
       "      <td>...</td>\n",
       "      <td>Mountain</td>\n",
       "      <td>NaN</td>\n",
       "      <td>None</td>\n",
       "      <td>3 Car+,Carport,Driveway,Street</td>\n",
       "      <td>Other,W/W Carpet</td>\n",
       "      <td>Other</td>\n",
       "      <td>County Rd</td>\n",
       "      <td>Street Widening</td>\n",
       "      <td>Gentle Slope,Level</td>\n",
       "      <td>Basement,One</td>\n",
       "    </tr>\n",
       "    <tr>\n",
       "      <th>4</th>\n",
       "      <td>FS</td>\n",
       "      <td>NaN</td>\n",
       "      <td>NaN</td>\n",
       "      <td>25</td>\n",
       "      <td>Sold</td>\n",
       "      <td>202126141</td>\n",
       "      <td>1288000</td>\n",
       "      <td>1288000</td>\n",
       "      <td>0</td>\n",
       "      <td>0.0000</td>\n",
       "      <td>...</td>\n",
       "      <td>Mountain</td>\n",
       "      <td>NaN</td>\n",
       "      <td>None</td>\n",
       "      <td>2 Car,Carport,Driveway,Street</td>\n",
       "      <td>Ceramic Tile,W/W Carpet</td>\n",
       "      <td>Asphalt Shingle,Composition</td>\n",
       "      <td>Paved Rd</td>\n",
       "      <td>None</td>\n",
       "      <td>Level</td>\n",
       "      <td>One</td>\n",
       "    </tr>\n",
       "    <tr>\n",
       "      <th>...</th>\n",
       "      <td>...</td>\n",
       "      <td>...</td>\n",
       "      <td>...</td>\n",
       "      <td>...</td>\n",
       "      <td>...</td>\n",
       "      <td>...</td>\n",
       "      <td>...</td>\n",
       "      <td>...</td>\n",
       "      <td>...</td>\n",
       "      <td>...</td>\n",
       "      <td>...</td>\n",
       "      <td>...</td>\n",
       "      <td>...</td>\n",
       "      <td>...</td>\n",
       "      <td>...</td>\n",
       "      <td>...</td>\n",
       "      <td>...</td>\n",
       "      <td>...</td>\n",
       "      <td>...</td>\n",
       "      <td>...</td>\n",
       "      <td>...</td>\n",
       "    </tr>\n",
       "    <tr>\n",
       "      <th>763</th>\n",
       "      <td>FS</td>\n",
       "      <td>NaN</td>\n",
       "      <td>NaN</td>\n",
       "      <td>24</td>\n",
       "      <td>Sold</td>\n",
       "      <td>202017815</td>\n",
       "      <td>1299000</td>\n",
       "      <td>1388000</td>\n",
       "      <td>-89000</td>\n",
       "      <td>-0.0641</td>\n",
       "      <td>...</td>\n",
       "      <td>Garden,Mountain</td>\n",
       "      <td>NaN</td>\n",
       "      <td>None</td>\n",
       "      <td>2 Car,Driveway,Garage,Street</td>\n",
       "      <td>Ceramic Tile,Vinyl</td>\n",
       "      <td>Asphalt Shingle</td>\n",
       "      <td>County Rd</td>\n",
       "      <td>None</td>\n",
       "      <td>Level</td>\n",
       "      <td>Two</td>\n",
       "    </tr>\n",
       "    <tr>\n",
       "      <th>764</th>\n",
       "      <td>FS</td>\n",
       "      <td>NaN</td>\n",
       "      <td>NaN</td>\n",
       "      <td>19</td>\n",
       "      <td>Sold</td>\n",
       "      <td>202028600</td>\n",
       "      <td>1588000</td>\n",
       "      <td>1588000</td>\n",
       "      <td>0</td>\n",
       "      <td>0.0000</td>\n",
       "      <td>...</td>\n",
       "      <td>City,Mountain,Other</td>\n",
       "      <td>Other</td>\n",
       "      <td>None</td>\n",
       "      <td>2 Car,Carport,Street</td>\n",
       "      <td>Hardwood,Other,W/W Carpet</td>\n",
       "      <td>Asphalt Shingle</td>\n",
       "      <td>County Rd,Paved Rd</td>\n",
       "      <td>Sewer</td>\n",
       "      <td>Gentle Slope,Terraced</td>\n",
       "      <td>Basement,Two</td>\n",
       "    </tr>\n",
       "    <tr>\n",
       "      <th>765</th>\n",
       "      <td>FS</td>\n",
       "      <td>NaN</td>\n",
       "      <td>NaN</td>\n",
       "      <td>21</td>\n",
       "      <td>Sold</td>\n",
       "      <td>202028943</td>\n",
       "      <td>1188000</td>\n",
       "      <td>1188000</td>\n",
       "      <td>0</td>\n",
       "      <td>0.0000</td>\n",
       "      <td>...</td>\n",
       "      <td>Coastline,Diamond Head,Mountain,Ocean,Sunrise</td>\n",
       "      <td>Other</td>\n",
       "      <td>None</td>\n",
       "      <td>3 Car+,Carport,Driveway</td>\n",
       "      <td>Ceramic Tile,Hardwood,Vinyl</td>\n",
       "      <td>Asphalt Shingle</td>\n",
       "      <td>County Rd,Paved Rd</td>\n",
       "      <td>None</td>\n",
       "      <td>Down Slope</td>\n",
       "      <td>Two</td>\n",
       "    </tr>\n",
       "    <tr>\n",
       "      <th>766</th>\n",
       "      <td>FS</td>\n",
       "      <td>NaN</td>\n",
       "      <td>NaN</td>\n",
       "      <td>23</td>\n",
       "      <td>Sold</td>\n",
       "      <td>202020787</td>\n",
       "      <td>1249000</td>\n",
       "      <td>1345000</td>\n",
       "      <td>-96000</td>\n",
       "      <td>-0.0714</td>\n",
       "      <td>...</td>\n",
       "      <td>Mountain</td>\n",
       "      <td>NaN</td>\n",
       "      <td>None</td>\n",
       "      <td>3 Car+</td>\n",
       "      <td>Laminate</td>\n",
       "      <td>Asphalt Shingle</td>\n",
       "      <td>Paved Rd</td>\n",
       "      <td>None</td>\n",
       "      <td>Gentle Slope,Level</td>\n",
       "      <td>One</td>\n",
       "    </tr>\n",
       "    <tr>\n",
       "      <th>767</th>\n",
       "      <td>FS</td>\n",
       "      <td>NaN</td>\n",
       "      <td>NaN</td>\n",
       "      <td>23</td>\n",
       "      <td>Sold</td>\n",
       "      <td>202026916</td>\n",
       "      <td>1478000</td>\n",
       "      <td>1478000</td>\n",
       "      <td>0</td>\n",
       "      <td>0.0000</td>\n",
       "      <td>...</td>\n",
       "      <td>Marina/Canal</td>\n",
       "      <td>Marina</td>\n",
       "      <td>None</td>\n",
       "      <td>3 Car+,Boat,Carport,Driveway</td>\n",
       "      <td>Vinyl</td>\n",
       "      <td>Asphalt Shingle</td>\n",
       "      <td>County Rd</td>\n",
       "      <td>None</td>\n",
       "      <td>Level</td>\n",
       "      <td>One</td>\n",
       "    </tr>\n",
       "  </tbody>\n",
       "</table>\n",
       "<p>768 rows × 68 columns</p>\n",
       "</div>"
      ],
      "text/plain": [
       "    Land  Open  CPR  Photos Status       MLS#    Price  Original Price  \\\n",
       "0     FS   NaN  NaN      14   Sold  202126770   799000          799000   \n",
       "1     FS   NaN  NaN       7   Sold  202128502   875000          875000   \n",
       "2     FS   NaN  NaN      25   Sold  202129166   899000          899000   \n",
       "3     FS   NaN  NaN      23   Sold  202126722   950000          950000   \n",
       "4     FS   NaN  NaN      25   Sold  202126141  1288000         1288000   \n",
       "..   ...   ...  ...     ...    ...        ...      ...             ...   \n",
       "763   FS   NaN  NaN      24   Sold  202017815  1299000         1388000   \n",
       "764   FS   NaN  NaN      19   Sold  202028600  1588000         1588000   \n",
       "765   FS   NaN  NaN      21   Sold  202028943  1188000         1188000   \n",
       "766   FS   NaN  NaN      23   Sold  202020787  1249000         1345000   \n",
       "767   FS   NaN  NaN      23   Sold  202026916  1478000         1478000   \n",
       "\n",
       "     $ Change  % Change  ...                                           View  \\\n",
       "0           0    0.0000  ...                                         Garden   \n",
       "1           0    0.0000  ...                                       Mountain   \n",
       "2           0    0.0000  ...                            City,Mountain,Other   \n",
       "3           0    0.0000  ...                                       Mountain   \n",
       "4           0    0.0000  ...                                       Mountain   \n",
       "..        ...       ...  ...                                            ...   \n",
       "763    -89000   -0.0641  ...                                Garden,Mountain   \n",
       "764         0    0.0000  ...                            City,Mountain,Other   \n",
       "765         0    0.0000  ...  Coastline,Diamond Head,Mountain,Ocean,Sunrise   \n",
       "766    -96000   -0.0714  ...                                       Mountain   \n",
       "767         0    0.0000  ...                                   Marina/Canal   \n",
       "\n",
       "    Frontage  Pool                         Parking  \\\n",
       "0        NaN  None             2 Car,Garage,Street   \n",
       "1        NaN  None                          3 Car+   \n",
       "2        NaN  None                           2 Car   \n",
       "3        NaN  None  3 Car+,Carport,Driveway,Street   \n",
       "4        NaN  None   2 Car,Carport,Driveway,Street   \n",
       "..       ...   ...                             ...   \n",
       "763      NaN  None    2 Car,Driveway,Garage,Street   \n",
       "764    Other  None            2 Car,Carport,Street   \n",
       "765    Other  None         3 Car+,Carport,Driveway   \n",
       "766      NaN  None                          3 Car+   \n",
       "767   Marina  None    3 Car+,Boat,Carport,Driveway   \n",
       "\n",
       "                        Flooring                      Roofing  \\\n",
       "0            Laminate,W/W Carpet              Asphalt Shingle   \n",
       "1    Ceramic Tile,Hardwood,Vinyl                  Composition   \n",
       "2                 Laminate,Other              Asphalt Shingle   \n",
       "3               Other,W/W Carpet                        Other   \n",
       "4        Ceramic Tile,W/W Carpet  Asphalt Shingle,Composition   \n",
       "..                           ...                          ...   \n",
       "763           Ceramic Tile,Vinyl              Asphalt Shingle   \n",
       "764    Hardwood,Other,W/W Carpet              Asphalt Shingle   \n",
       "765  Ceramic Tile,Hardwood,Vinyl              Asphalt Shingle   \n",
       "766                     Laminate              Asphalt Shingle   \n",
       "767                        Vinyl              Asphalt Shingle   \n",
       "\n",
       "                             Roads        Easements             Topography  \\\n",
       "0               County Rd,Paved Rd             None                  Level   \n",
       "1    County Rd,Paved Rd,Private Rd   Electric,Other       Down Slope,Level   \n",
       "2               County Rd,Paved Rd             None                  Level   \n",
       "3                        County Rd  Street Widening     Gentle Slope,Level   \n",
       "4                         Paved Rd             None                  Level   \n",
       "..                             ...              ...                    ...   \n",
       "763                      County Rd             None                  Level   \n",
       "764             County Rd,Paved Rd            Sewer  Gentle Slope,Terraced   \n",
       "765             County Rd,Paved Rd             None             Down Slope   \n",
       "766                       Paved Rd             None     Gentle Slope,Level   \n",
       "767                      County Rd             None                  Level   \n",
       "\n",
       "          Stories  \n",
       "0             Two  \n",
       "1             One  \n",
       "2             One  \n",
       "3    Basement,One  \n",
       "4             One  \n",
       "..            ...  \n",
       "763           Two  \n",
       "764  Basement,Two  \n",
       "765           Two  \n",
       "766           One  \n",
       "767           One  \n",
       "\n",
       "[768 rows x 68 columns]"
      ]
     },
     "execution_count": 3,
     "metadata": {},
     "output_type": "execute_result"
    }
   ],
   "source": [
    "houses\n",
    "# 768 rows, 68 columns"
   ]
  },
  {
   "cell_type": "markdown",
   "id": "91d98cdb",
   "metadata": {},
   "source": [
    "# Drop index/irrelevant columns"
   ]
  },
  {
   "cell_type": "code",
   "execution_count": 4,
   "id": "b2616e56",
   "metadata": {},
   "outputs": [
    {
     "name": "stdout",
     "output_type": "stream",
     "text": [
      "Land\n",
      "Open\n",
      "CPR\n",
      "Photos\n",
      "Status\n",
      "MLS#\n",
      "Price\n",
      "Original Price\n",
      "$ Change\n",
      "% Change\n",
      "Region\n",
      "Neighborhood\n",
      "Address\n",
      "City\n",
      "Zip\n",
      "Parcel Number\n",
      "Zone\n",
      "Section\n",
      "Plat\n",
      "Parcel/Lot\n",
      "CPR.1\n",
      "Terms\n",
      "Sold Price\n",
      "Sold Date\n",
      "Sold Ratio\n",
      "Orig. Ratio\n",
      "Concessions\n",
      "Beds\n",
      "Bath\n",
      "Living Sq Ft\n",
      "Average Living\n",
      "Land Sq Ft\n",
      "Acres\n",
      "Average Land\n",
      "Year\n",
      "Remodeled\n",
      "List Date\n",
      "Days\n",
      "Condition\n",
      "Tax\n",
      "Maint. Fee\n",
      "Assoc. Fee\n",
      "Other Fee\n",
      "Fee Includes\n",
      "Total Fees\n",
      "Land.1\n",
      "Building\n",
      "Assessed Total\n",
      "Assessed Ratio\n",
      "Elementary\n",
      "Junior High\n",
      "High\n",
      "Zoning\n",
      "Flood Zone\n",
      "Seller's Agent\n",
      "Seller's Office\n",
      "Buyer's Agent\n",
      "Buyer's Office\n",
      "View\n",
      "Frontage\n",
      "Pool\n",
      "Parking\n",
      "Flooring\n",
      "Roofing\n",
      "Roads\n",
      "Easements\n",
      "Topography\n",
      "Stories\n"
     ]
    }
   ],
   "source": [
    "for col in houses.columns:\n",
    "    print(col)"
   ]
  },
  {
   "cell_type": "code",
   "execution_count": 5,
   "id": "0075ef02",
   "metadata": {},
   "outputs": [],
   "source": [
    "houses.drop(['Land','Open','Status','$ Change','Neighborhood',\n",
    "             'Address','City','Zip','Parcel Number','Zone','Section','Plat',\n",
    "            'Parcel/Lot','Terms','Concessions','Average Living', 'Acres',\n",
    "            'Average Land','Maint. Fee', 'Assoc. Fee', 'Other Fee','Fee Includes',\n",
    "            'Elementary', 'Junior High', 'High', 'Seller\\'s Agent', 'Buyer\\'s Agent',\n",
    "            'Seller\\'s Office', 'Buyer\\'s Office'], axis=1, inplace=True)"
   ]
  },
  {
   "cell_type": "code",
   "execution_count": 7,
   "id": "0b8f93da",
   "metadata": {},
   "outputs": [
    {
     "data": {
      "text/html": [
       "<div>\n",
       "<style scoped>\n",
       "    .dataframe tbody tr th:only-of-type {\n",
       "        vertical-align: middle;\n",
       "    }\n",
       "\n",
       "    .dataframe tbody tr th {\n",
       "        vertical-align: top;\n",
       "    }\n",
       "\n",
       "    .dataframe thead th {\n",
       "        text-align: right;\n",
       "    }\n",
       "</style>\n",
       "<table border=\"1\" class=\"dataframe\">\n",
       "  <thead>\n",
       "    <tr style=\"text-align: right;\">\n",
       "      <th></th>\n",
       "      <th>CPR</th>\n",
       "      <th>Photos</th>\n",
       "      <th>MLS#</th>\n",
       "      <th>Price</th>\n",
       "      <th>Original Price</th>\n",
       "      <th>% Change</th>\n",
       "      <th>Region</th>\n",
       "      <th>CPR.1</th>\n",
       "      <th>Sold Price</th>\n",
       "      <th>Sold Date</th>\n",
       "      <th>...</th>\n",
       "      <th>View</th>\n",
       "      <th>Frontage</th>\n",
       "      <th>Pool</th>\n",
       "      <th>Parking</th>\n",
       "      <th>Flooring</th>\n",
       "      <th>Roofing</th>\n",
       "      <th>Roads</th>\n",
       "      <th>Easements</th>\n",
       "      <th>Topography</th>\n",
       "      <th>Stories</th>\n",
       "    </tr>\n",
       "  </thead>\n",
       "  <tbody>\n",
       "    <tr>\n",
       "      <th>0</th>\n",
       "      <td>NaN</td>\n",
       "      <td>14</td>\n",
       "      <td>202126770</td>\n",
       "      <td>799000</td>\n",
       "      <td>799000</td>\n",
       "      <td>0.0000</td>\n",
       "      <td>Metro</td>\n",
       "      <td>0</td>\n",
       "      <td>825000</td>\n",
       "      <td>12/28/2021</td>\n",
       "      <td>...</td>\n",
       "      <td>Garden</td>\n",
       "      <td>NaN</td>\n",
       "      <td>None</td>\n",
       "      <td>2 Car,Garage,Street</td>\n",
       "      <td>Laminate,W/W Carpet</td>\n",
       "      <td>Asphalt Shingle</td>\n",
       "      <td>County Rd,Paved Rd</td>\n",
       "      <td>None</td>\n",
       "      <td>Level</td>\n",
       "      <td>Two</td>\n",
       "    </tr>\n",
       "    <tr>\n",
       "      <th>1</th>\n",
       "      <td>NaN</td>\n",
       "      <td>7</td>\n",
       "      <td>202128502</td>\n",
       "      <td>875000</td>\n",
       "      <td>875000</td>\n",
       "      <td>0.0000</td>\n",
       "      <td>DiamondHd</td>\n",
       "      <td>0</td>\n",
       "      <td>940000</td>\n",
       "      <td>12/28/2021</td>\n",
       "      <td>...</td>\n",
       "      <td>Mountain</td>\n",
       "      <td>NaN</td>\n",
       "      <td>None</td>\n",
       "      <td>3 Car+</td>\n",
       "      <td>Ceramic Tile,Hardwood,Vinyl</td>\n",
       "      <td>Composition</td>\n",
       "      <td>County Rd,Paved Rd,Private Rd</td>\n",
       "      <td>Electric,Other</td>\n",
       "      <td>Down Slope,Level</td>\n",
       "      <td>One</td>\n",
       "    </tr>\n",
       "    <tr>\n",
       "      <th>2</th>\n",
       "      <td>NaN</td>\n",
       "      <td>25</td>\n",
       "      <td>202129166</td>\n",
       "      <td>899000</td>\n",
       "      <td>899000</td>\n",
       "      <td>0.0000</td>\n",
       "      <td>DiamondHd</td>\n",
       "      <td>0</td>\n",
       "      <td>990000</td>\n",
       "      <td>12/28/2021</td>\n",
       "      <td>...</td>\n",
       "      <td>City,Mountain,Other</td>\n",
       "      <td>NaN</td>\n",
       "      <td>None</td>\n",
       "      <td>2 Car</td>\n",
       "      <td>Laminate,Other</td>\n",
       "      <td>Asphalt Shingle</td>\n",
       "      <td>County Rd,Paved Rd</td>\n",
       "      <td>None</td>\n",
       "      <td>Level</td>\n",
       "      <td>One</td>\n",
       "    </tr>\n",
       "    <tr>\n",
       "      <th>3</th>\n",
       "      <td>NaN</td>\n",
       "      <td>23</td>\n",
       "      <td>202126722</td>\n",
       "      <td>950000</td>\n",
       "      <td>950000</td>\n",
       "      <td>0.0000</td>\n",
       "      <td>Metro</td>\n",
       "      <td>0</td>\n",
       "      <td>1030500</td>\n",
       "      <td>12/27/2021</td>\n",
       "      <td>...</td>\n",
       "      <td>Mountain</td>\n",
       "      <td>NaN</td>\n",
       "      <td>None</td>\n",
       "      <td>3 Car+,Carport,Driveway,Street</td>\n",
       "      <td>Other,W/W Carpet</td>\n",
       "      <td>Other</td>\n",
       "      <td>County Rd</td>\n",
       "      <td>Street Widening</td>\n",
       "      <td>Gentle Slope,Level</td>\n",
       "      <td>Basement,One</td>\n",
       "    </tr>\n",
       "    <tr>\n",
       "      <th>4</th>\n",
       "      <td>NaN</td>\n",
       "      <td>25</td>\n",
       "      <td>202126141</td>\n",
       "      <td>1288000</td>\n",
       "      <td>1288000</td>\n",
       "      <td>0.0000</td>\n",
       "      <td>HawaiiKai</td>\n",
       "      <td>0</td>\n",
       "      <td>1250000</td>\n",
       "      <td>12/27/2021</td>\n",
       "      <td>...</td>\n",
       "      <td>Mountain</td>\n",
       "      <td>NaN</td>\n",
       "      <td>None</td>\n",
       "      <td>2 Car,Carport,Driveway,Street</td>\n",
       "      <td>Ceramic Tile,W/W Carpet</td>\n",
       "      <td>Asphalt Shingle,Composition</td>\n",
       "      <td>Paved Rd</td>\n",
       "      <td>None</td>\n",
       "      <td>Level</td>\n",
       "      <td>One</td>\n",
       "    </tr>\n",
       "    <tr>\n",
       "      <th>...</th>\n",
       "      <td>...</td>\n",
       "      <td>...</td>\n",
       "      <td>...</td>\n",
       "      <td>...</td>\n",
       "      <td>...</td>\n",
       "      <td>...</td>\n",
       "      <td>...</td>\n",
       "      <td>...</td>\n",
       "      <td>...</td>\n",
       "      <td>...</td>\n",
       "      <td>...</td>\n",
       "      <td>...</td>\n",
       "      <td>...</td>\n",
       "      <td>...</td>\n",
       "      <td>...</td>\n",
       "      <td>...</td>\n",
       "      <td>...</td>\n",
       "      <td>...</td>\n",
       "      <td>...</td>\n",
       "      <td>...</td>\n",
       "      <td>...</td>\n",
       "    </tr>\n",
       "    <tr>\n",
       "      <th>763</th>\n",
       "      <td>NaN</td>\n",
       "      <td>24</td>\n",
       "      <td>202017815</td>\n",
       "      <td>1299000</td>\n",
       "      <td>1388000</td>\n",
       "      <td>-0.0641</td>\n",
       "      <td>Metro</td>\n",
       "      <td>0</td>\n",
       "      <td>1225000</td>\n",
       "      <td>12/31/2020</td>\n",
       "      <td>...</td>\n",
       "      <td>Garden,Mountain</td>\n",
       "      <td>NaN</td>\n",
       "      <td>None</td>\n",
       "      <td>2 Car,Driveway,Garage,Street</td>\n",
       "      <td>Ceramic Tile,Vinyl</td>\n",
       "      <td>Asphalt Shingle</td>\n",
       "      <td>County Rd</td>\n",
       "      <td>None</td>\n",
       "      <td>Level</td>\n",
       "      <td>Two</td>\n",
       "    </tr>\n",
       "    <tr>\n",
       "      <th>764</th>\n",
       "      <td>NaN</td>\n",
       "      <td>19</td>\n",
       "      <td>202028600</td>\n",
       "      <td>1588000</td>\n",
       "      <td>1588000</td>\n",
       "      <td>0.0000</td>\n",
       "      <td>Metro</td>\n",
       "      <td>0</td>\n",
       "      <td>1500000</td>\n",
       "      <td>12/31/2020</td>\n",
       "      <td>...</td>\n",
       "      <td>City,Mountain,Other</td>\n",
       "      <td>Other</td>\n",
       "      <td>None</td>\n",
       "      <td>2 Car,Carport,Street</td>\n",
       "      <td>Hardwood,Other,W/W Carpet</td>\n",
       "      <td>Asphalt Shingle</td>\n",
       "      <td>County Rd,Paved Rd</td>\n",
       "      <td>Sewer</td>\n",
       "      <td>Gentle Slope,Terraced</td>\n",
       "      <td>Basement,Two</td>\n",
       "    </tr>\n",
       "    <tr>\n",
       "      <th>765</th>\n",
       "      <td>NaN</td>\n",
       "      <td>21</td>\n",
       "      <td>202028943</td>\n",
       "      <td>1188000</td>\n",
       "      <td>1188000</td>\n",
       "      <td>0.0000</td>\n",
       "      <td>DiamondHd</td>\n",
       "      <td>0</td>\n",
       "      <td>1225000</td>\n",
       "      <td>12/30/2020</td>\n",
       "      <td>...</td>\n",
       "      <td>Coastline,Diamond Head,Mountain,Ocean,Sunrise</td>\n",
       "      <td>Other</td>\n",
       "      <td>None</td>\n",
       "      <td>3 Car+,Carport,Driveway</td>\n",
       "      <td>Ceramic Tile,Hardwood,Vinyl</td>\n",
       "      <td>Asphalt Shingle</td>\n",
       "      <td>County Rd,Paved Rd</td>\n",
       "      <td>None</td>\n",
       "      <td>Down Slope</td>\n",
       "      <td>Two</td>\n",
       "    </tr>\n",
       "    <tr>\n",
       "      <th>766</th>\n",
       "      <td>NaN</td>\n",
       "      <td>23</td>\n",
       "      <td>202020787</td>\n",
       "      <td>1249000</td>\n",
       "      <td>1345000</td>\n",
       "      <td>-0.0714</td>\n",
       "      <td>DiamondHd</td>\n",
       "      <td>0</td>\n",
       "      <td>1175000</td>\n",
       "      <td>12/30/2020</td>\n",
       "      <td>...</td>\n",
       "      <td>Mountain</td>\n",
       "      <td>NaN</td>\n",
       "      <td>None</td>\n",
       "      <td>3 Car+</td>\n",
       "      <td>Laminate</td>\n",
       "      <td>Asphalt Shingle</td>\n",
       "      <td>Paved Rd</td>\n",
       "      <td>None</td>\n",
       "      <td>Gentle Slope,Level</td>\n",
       "      <td>One</td>\n",
       "    </tr>\n",
       "    <tr>\n",
       "      <th>767</th>\n",
       "      <td>NaN</td>\n",
       "      <td>23</td>\n",
       "      <td>202026916</td>\n",
       "      <td>1478000</td>\n",
       "      <td>1478000</td>\n",
       "      <td>0.0000</td>\n",
       "      <td>HawaiiKai</td>\n",
       "      <td>0</td>\n",
       "      <td>1393000</td>\n",
       "      <td>12/30/2020</td>\n",
       "      <td>...</td>\n",
       "      <td>Marina/Canal</td>\n",
       "      <td>Marina</td>\n",
       "      <td>None</td>\n",
       "      <td>3 Car+,Boat,Carport,Driveway</td>\n",
       "      <td>Vinyl</td>\n",
       "      <td>Asphalt Shingle</td>\n",
       "      <td>County Rd</td>\n",
       "      <td>None</td>\n",
       "      <td>Level</td>\n",
       "      <td>One</td>\n",
       "    </tr>\n",
       "  </tbody>\n",
       "</table>\n",
       "<p>768 rows × 39 columns</p>\n",
       "</div>"
      ],
      "text/plain": [
       "     CPR  Photos       MLS#    Price  Original Price  % Change     Region  \\\n",
       "0    NaN      14  202126770   799000          799000    0.0000      Metro   \n",
       "1    NaN       7  202128502   875000          875000    0.0000  DiamondHd   \n",
       "2    NaN      25  202129166   899000          899000    0.0000  DiamondHd   \n",
       "3    NaN      23  202126722   950000          950000    0.0000      Metro   \n",
       "4    NaN      25  202126141  1288000         1288000    0.0000  HawaiiKai   \n",
       "..   ...     ...        ...      ...             ...       ...        ...   \n",
       "763  NaN      24  202017815  1299000         1388000   -0.0641      Metro   \n",
       "764  NaN      19  202028600  1588000         1588000    0.0000      Metro   \n",
       "765  NaN      21  202028943  1188000         1188000    0.0000  DiamondHd   \n",
       "766  NaN      23  202020787  1249000         1345000   -0.0714  DiamondHd   \n",
       "767  NaN      23  202026916  1478000         1478000    0.0000  HawaiiKai   \n",
       "\n",
       "     CPR.1  Sold Price   Sold Date  ...  \\\n",
       "0        0      825000  12/28/2021  ...   \n",
       "1        0      940000  12/28/2021  ...   \n",
       "2        0      990000  12/28/2021  ...   \n",
       "3        0     1030500  12/27/2021  ...   \n",
       "4        0     1250000  12/27/2021  ...   \n",
       "..     ...         ...         ...  ...   \n",
       "763      0     1225000  12/31/2020  ...   \n",
       "764      0     1500000  12/31/2020  ...   \n",
       "765      0     1225000  12/30/2020  ...   \n",
       "766      0     1175000  12/30/2020  ...   \n",
       "767      0     1393000  12/30/2020  ...   \n",
       "\n",
       "                                              View  Frontage  Pool  \\\n",
       "0                                           Garden       NaN  None   \n",
       "1                                         Mountain       NaN  None   \n",
       "2                              City,Mountain,Other       NaN  None   \n",
       "3                                         Mountain       NaN  None   \n",
       "4                                         Mountain       NaN  None   \n",
       "..                                             ...       ...   ...   \n",
       "763                                Garden,Mountain       NaN  None   \n",
       "764                            City,Mountain,Other     Other  None   \n",
       "765  Coastline,Diamond Head,Mountain,Ocean,Sunrise     Other  None   \n",
       "766                                       Mountain       NaN  None   \n",
       "767                                   Marina/Canal    Marina  None   \n",
       "\n",
       "                            Parking                     Flooring  \\\n",
       "0               2 Car,Garage,Street          Laminate,W/W Carpet   \n",
       "1                            3 Car+  Ceramic Tile,Hardwood,Vinyl   \n",
       "2                             2 Car               Laminate,Other   \n",
       "3    3 Car+,Carport,Driveway,Street             Other,W/W Carpet   \n",
       "4     2 Car,Carport,Driveway,Street      Ceramic Tile,W/W Carpet   \n",
       "..                              ...                          ...   \n",
       "763    2 Car,Driveway,Garage,Street           Ceramic Tile,Vinyl   \n",
       "764            2 Car,Carport,Street    Hardwood,Other,W/W Carpet   \n",
       "765         3 Car+,Carport,Driveway  Ceramic Tile,Hardwood,Vinyl   \n",
       "766                          3 Car+                     Laminate   \n",
       "767    3 Car+,Boat,Carport,Driveway                        Vinyl   \n",
       "\n",
       "                         Roofing                          Roads  \\\n",
       "0                Asphalt Shingle             County Rd,Paved Rd   \n",
       "1                    Composition  County Rd,Paved Rd,Private Rd   \n",
       "2                Asphalt Shingle             County Rd,Paved Rd   \n",
       "3                          Other                      County Rd   \n",
       "4    Asphalt Shingle,Composition                       Paved Rd   \n",
       "..                           ...                            ...   \n",
       "763              Asphalt Shingle                      County Rd   \n",
       "764              Asphalt Shingle             County Rd,Paved Rd   \n",
       "765              Asphalt Shingle             County Rd,Paved Rd   \n",
       "766              Asphalt Shingle                       Paved Rd   \n",
       "767              Asphalt Shingle                      County Rd   \n",
       "\n",
       "           Easements             Topography       Stories  \n",
       "0               None                  Level           Two  \n",
       "1     Electric,Other       Down Slope,Level           One  \n",
       "2               None                  Level           One  \n",
       "3    Street Widening     Gentle Slope,Level  Basement,One  \n",
       "4               None                  Level           One  \n",
       "..               ...                    ...           ...  \n",
       "763             None                  Level           Two  \n",
       "764            Sewer  Gentle Slope,Terraced  Basement,Two  \n",
       "765             None             Down Slope           Two  \n",
       "766             None     Gentle Slope,Level           One  \n",
       "767             None                  Level           One  \n",
       "\n",
       "[768 rows x 39 columns]"
      ]
     },
     "execution_count": 7,
     "metadata": {},
     "output_type": "execute_result"
    }
   ],
   "source": [
    "houses\n",
    "# 768 rows, 39 columns"
   ]
  },
  {
   "cell_type": "markdown",
   "id": "d1b1f7cd",
   "metadata": {},
   "source": [
    "# Set MLS# as index"
   ]
  },
  {
   "cell_type": "code",
   "execution_count": 8,
   "id": "23b3193a",
   "metadata": {},
   "outputs": [],
   "source": [
    "houses = houses.set_index('MLS#')"
   ]
  },
  {
   "cell_type": "markdown",
   "id": "92cb8c21",
   "metadata": {},
   "source": [
    "# Create CPR binary"
   ]
  },
  {
   "cell_type": "code",
   "execution_count": 9,
   "id": "a85587b2",
   "metadata": {},
   "outputs": [],
   "source": [
    "def cprVar(Value):\n",
    "    if Value == 'Yes':\n",
    "        return 1\n",
    "    else:\n",
    "        return 0"
   ]
  },
  {
   "cell_type": "code",
   "execution_count": 10,
   "id": "d5e4760c",
   "metadata": {},
   "outputs": [
    {
     "data": {
      "text/plain": [
       "count    768.000000\n",
       "mean       0.114583\n",
       "std        0.318726\n",
       "min        0.000000\n",
       "25%        0.000000\n",
       "50%        0.000000\n",
       "75%        0.000000\n",
       "max        1.000000\n",
       "Name: CPR, dtype: float64"
      ]
     },
     "execution_count": 10,
     "metadata": {},
     "output_type": "execute_result"
    }
   ],
   "source": [
    "houses['CPR'] = houses['CPR'].apply(lambda x: cprVar(x))\n",
    "houses['CPR'].describe()"
   ]
  },
  {
   "cell_type": "markdown",
   "id": "e0affda6",
   "metadata": {},
   "source": [
    "# Convert sold date to date"
   ]
  },
  {
   "cell_type": "code",
   "execution_count": 11,
   "id": "1c4770c0",
   "metadata": {},
   "outputs": [
    {
     "name": "stderr",
     "output_type": "stream",
     "text": [
      "C:\\Users\\cnaga\\AppData\\Local\\Temp/ipykernel_932/265631300.py:2: FutureWarning: Treating datetime data as categorical rather than numeric in `.describe` is deprecated and will be removed in a future version of pandas. Specify `datetime_is_numeric=True` to silence this warning and adopt the future behavior now.\n",
      "  houses['SoldDate'].describe()\n"
     ]
    },
    {
     "data": {
      "text/plain": [
       "count                     768\n",
       "unique                    229\n",
       "top       2021-07-30 00:00:00\n",
       "freq                       13\n",
       "first     2020-12-30 00:00:00\n",
       "last      2021-12-28 00:00:00\n",
       "Name: SoldDate, dtype: object"
      ]
     },
     "execution_count": 11,
     "metadata": {},
     "output_type": "execute_result"
    }
   ],
   "source": [
    "houses['SoldDate'] = pd.to_datetime(houses['Sold Date'], format='%m/%d/%Y')\n",
    "houses['SoldDate'].describe()"
   ]
  },
  {
   "cell_type": "markdown",
   "id": "4ade5e8f",
   "metadata": {},
   "source": [
    "# Convert list date to date"
   ]
  },
  {
   "cell_type": "code",
   "execution_count": 12,
   "id": "5549805b",
   "metadata": {},
   "outputs": [
    {
     "name": "stderr",
     "output_type": "stream",
     "text": [
      "C:\\Users\\cnaga\\AppData\\Local\\Temp/ipykernel_932/2289630086.py:2: FutureWarning: Treating datetime data as categorical rather than numeric in `.describe` is deprecated and will be removed in a future version of pandas. Specify `datetime_is_numeric=True` to silence this warning and adopt the future behavior now.\n",
      "  houses['ListDate'].describe()\n"
     ]
    },
    {
     "data": {
      "text/plain": [
       "count                     768\n",
       "unique                    342\n",
       "top       2021-02-01 00:00:00\n",
       "freq                        8\n",
       "first     2019-05-08 00:00:00\n",
       "last      2021-11-28 00:00:00\n",
       "Name: ListDate, dtype: object"
      ]
     },
     "execution_count": 12,
     "metadata": {},
     "output_type": "execute_result"
    }
   ],
   "source": [
    "houses['ListDate'] = pd.to_datetime(houses['List Date'], format='%m/%d/%Y')\n",
    "houses['ListDate'].describe()"
   ]
  },
  {
   "cell_type": "markdown",
   "id": "14e134fc",
   "metadata": {},
   "source": [
    "# Create % Increase and % Decrease Binary Vars"
   ]
  },
  {
   "cell_type": "code",
   "execution_count": 13,
   "id": "651bc9fe",
   "metadata": {},
   "outputs": [],
   "source": [
    "def priceInc(Value):\n",
    "    if Value > 0:\n",
    "        return 1\n",
    "    else:\n",
    "        return 0"
   ]
  },
  {
   "cell_type": "code",
   "execution_count": 14,
   "id": "90a93261",
   "metadata": {},
   "outputs": [
    {
     "data": {
      "text/plain": [
       "count    768.000000\n",
       "mean       0.053385\n",
       "std        0.224947\n",
       "min        0.000000\n",
       "25%        0.000000\n",
       "50%        0.000000\n",
       "75%        0.000000\n",
       "max        1.000000\n",
       "Name: priceInc, dtype: float64"
      ]
     },
     "execution_count": 14,
     "metadata": {},
     "output_type": "execute_result"
    }
   ],
   "source": [
    "houses['priceInc'] = houses['% Change'].apply(lambda x: priceInc(x))\n",
    "houses['priceInc'].describe()"
   ]
  },
  {
   "cell_type": "code",
   "execution_count": 15,
   "id": "ab7bf848",
   "metadata": {},
   "outputs": [],
   "source": [
    "def priceDec(Value):\n",
    "    if Value < 0:\n",
    "        return 1\n",
    "    else:\n",
    "        return 0"
   ]
  },
  {
   "cell_type": "code",
   "execution_count": 16,
   "id": "d57c5754",
   "metadata": {},
   "outputs": [
    {
     "data": {
      "text/plain": [
       "count    768.000000\n",
       "mean       0.156250\n",
       "std        0.363329\n",
       "min        0.000000\n",
       "25%        0.000000\n",
       "50%        0.000000\n",
       "75%        0.000000\n",
       "max        1.000000\n",
       "Name: priceDec, dtype: float64"
      ]
     },
     "execution_count": 16,
     "metadata": {},
     "output_type": "execute_result"
    }
   ],
   "source": [
    "houses['priceDec'] = houses['% Change'].apply(lambda x: priceDec(x))\n",
    "houses['priceDec'].describe()"
   ]
  },
  {
   "cell_type": "markdown",
   "id": "25c4c25c",
   "metadata": {},
   "source": [
    "# CPR.1 variable"
   ]
  },
  {
   "cell_type": "code",
   "execution_count": 17,
   "id": "dc502ead",
   "metadata": {},
   "outputs": [
    {
     "data": {
      "text/plain": [
       "count    768.000000\n",
       "mean       0.880208\n",
       "std        6.299664\n",
       "min        0.000000\n",
       "25%        0.000000\n",
       "50%        0.000000\n",
       "75%        0.000000\n",
       "max       94.000000\n",
       "Name: CPR.1, dtype: float64"
      ]
     },
     "execution_count": 17,
     "metadata": {},
     "output_type": "execute_result"
    }
   ],
   "source": [
    "houses['CPR.1'].describe()"
   ]
  },
  {
   "cell_type": "code",
   "execution_count": 18,
   "id": "0e6e1ef3",
   "metadata": {},
   "outputs": [],
   "source": [
    "def largeCPR(Value):\n",
    "    if Value > 3:\n",
    "        return 1\n",
    "    else:\n",
    "        return 0"
   ]
  },
  {
   "cell_type": "code",
   "execution_count": 19,
   "id": "9207ae7a",
   "metadata": {},
   "outputs": [
    {
     "data": {
      "text/plain": [
       "count    768.000000\n",
       "mean       0.028646\n",
       "std        0.166918\n",
       "min        0.000000\n",
       "25%        0.000000\n",
       "50%        0.000000\n",
       "75%        0.000000\n",
       "max        1.000000\n",
       "Name: largeCPR, dtype: float64"
      ]
     },
     "execution_count": 19,
     "metadata": {},
     "output_type": "execute_result"
    }
   ],
   "source": [
    "houses['largeCPR'] = houses['CPR.1'].apply(lambda x: largeCPR(x))\n",
    "houses['largeCPR'].describe()"
   ]
  },
  {
   "cell_type": "code",
   "execution_count": 20,
   "id": "1ee7f4be",
   "metadata": {},
   "outputs": [
    {
     "name": "stdout",
     "output_type": "stream",
     "text": [
      "CPR\n",
      "Photos\n",
      "Price\n",
      "Original Price\n",
      "% Change\n",
      "Region\n",
      "CPR.1\n",
      "Sold Price\n",
      "Sold Date\n",
      "Sold Ratio\n",
      "Orig. Ratio\n",
      "Beds\n",
      "Bath\n",
      "Living Sq Ft\n",
      "Land Sq Ft\n",
      "Year\n",
      "Remodeled\n",
      "List Date\n",
      "Days\n",
      "Condition\n",
      "Tax\n",
      "Total Fees\n",
      "Land.1\n",
      "Building\n",
      "Assessed Total\n",
      "Assessed Ratio\n",
      "Zoning\n",
      "Flood Zone\n",
      "View\n",
      "Frontage\n",
      "Pool\n",
      "Parking\n",
      "Flooring\n",
      "Roofing\n",
      "Roads\n",
      "Easements\n",
      "Topography\n",
      "Stories\n",
      "SoldDate\n",
      "ListDate\n",
      "priceInc\n",
      "priceDec\n",
      "largeCPR\n"
     ]
    }
   ],
   "source": [
    "for col in houses.columns:\n",
    "    print(col)"
   ]
  },
  {
   "cell_type": "code",
   "execution_count": 21,
   "id": "06de193c",
   "metadata": {},
   "outputs": [],
   "source": [
    "houses.drop(['% Change', 'CPR.1'], axis=1, inplace=True)"
   ]
  },
  {
   "cell_type": "markdown",
   "id": "cf4d5b27",
   "metadata": {},
   "source": [
    "# Create above original price binary variable"
   ]
  },
  {
   "cell_type": "code",
   "execution_count": 22,
   "id": "21c0fb29",
   "metadata": {},
   "outputs": [],
   "source": [
    "def aboveOrig(Value):\n",
    "    if Value > 1:\n",
    "        return 1\n",
    "    else:\n",
    "        return 0"
   ]
  },
  {
   "cell_type": "code",
   "execution_count": 23,
   "id": "0361b4c2",
   "metadata": {},
   "outputs": [
    {
     "data": {
      "text/plain": [
       "count    768.000000\n",
       "mean       0.384115\n",
       "std        0.486702\n",
       "min        0.000000\n",
       "25%        0.000000\n",
       "50%        0.000000\n",
       "75%        1.000000\n",
       "max        1.000000\n",
       "Name: aboveOrig, dtype: float64"
      ]
     },
     "execution_count": 23,
     "metadata": {},
     "output_type": "execute_result"
    }
   ],
   "source": [
    "houses['aboveOrig'] = houses['Orig. Ratio'].apply(lambda x: aboveOrig(x))\n",
    "houses['aboveOrig'].describe()"
   ]
  },
  {
   "cell_type": "markdown",
   "id": "bb68f0c6",
   "metadata": {},
   "source": [
    "# Clean bath"
   ]
  },
  {
   "cell_type": "code",
   "execution_count": 24,
   "id": "35b643fb",
   "metadata": {},
   "outputs": [
    {
     "data": {
      "text/plain": [
       "count     768\n",
       "unique      8\n",
       "top         2\n",
       "freq      380\n",
       "Name: fullBaths, dtype: object"
      ]
     },
     "execution_count": 24,
     "metadata": {},
     "output_type": "execute_result"
    }
   ],
   "source": [
    "def fullBath(x):\n",
    "    'Returns number of full baths'\n",
    "    \n",
    "    x = str(x)\n",
    "    if re.search('\\.', x):  # If string contains a decimal point\n",
    "        pos = re.search('\\.', x).start()\n",
    "        return x[:pos] # Return number up to decimal point\n",
    "    \n",
    "    else:\n",
    "        return x # only full baths\n",
    "\n",
    "houses['fullBaths'] = houses['Bath'].apply(fullBath)\n",
    "houses['fullBaths'].describe()"
   ]
  },
  {
   "cell_type": "code",
   "execution_count": 25,
   "id": "da37c399",
   "metadata": {},
   "outputs": [
    {
     "data": {
      "text/plain": [
       "count     768\n",
       "unique      3\n",
       "top         0\n",
       "freq      546\n",
       "Name: halfBaths, dtype: object"
      ]
     },
     "execution_count": 25,
     "metadata": {},
     "output_type": "execute_result"
    }
   ],
   "source": [
    "def halfBath(x):\n",
    "    'Returns number of half baths'\n",
    "    \n",
    "    x = str(x)\n",
    "    if re.search('\\.', x):  # If string contains a decimal point\n",
    "        pos = re.search('\\.', x).start()\n",
    "        return x[pos+1:] # Return number after decimal point\n",
    "    \n",
    "    else:\n",
    "        return 0 # only full baths\n",
    "\n",
    "houses['halfBaths'] = houses['Bath'].apply(halfBath)\n",
    "houses['halfBaths'].describe()"
   ]
  },
  {
   "cell_type": "markdown",
   "id": "ece2af42",
   "metadata": {},
   "source": [
    "# Create remodeled binary variable (1 if less than 5 years ago)"
   ]
  },
  {
   "cell_type": "code",
   "execution_count": 26,
   "id": "5aba2d40",
   "metadata": {},
   "outputs": [
    {
     "data": {
      "text/plain": [
       "count     359.000000\n",
       "mean     2002.883008\n",
       "std        22.841272\n",
       "min      1921.000000\n",
       "25%      1987.500000\n",
       "50%      2015.000000\n",
       "75%      2020.000000\n",
       "max      2021.000000\n",
       "Name: Remodeled, dtype: float64"
      ]
     },
     "execution_count": 26,
     "metadata": {},
     "output_type": "execute_result"
    }
   ],
   "source": [
    "houses['Remodeled'].describe()"
   ]
  },
  {
   "cell_type": "code",
   "execution_count": 27,
   "id": "5d7a947b",
   "metadata": {},
   "outputs": [
    {
     "data": {
      "text/plain": [
       "count    768.000000\n",
       "mean       0.218750\n",
       "std        0.413668\n",
       "min        0.000000\n",
       "25%        0.000000\n",
       "50%        0.000000\n",
       "75%        0.000000\n",
       "max        1.000000\n",
       "Name: rem5Yrs, dtype: float64"
      ]
     },
     "execution_count": 27,
     "metadata": {},
     "output_type": "execute_result"
    }
   ],
   "source": [
    "def rem5Yrs(x):\n",
    "    'Returns 1 if remodeled in last 5 years'\n",
    "    \n",
    "    if x >= 2017:\n",
    "        return 1\n",
    "    else: return 0\n",
    "        \n",
    "houses['rem5Yrs'] = houses['Remodeled'].apply(rem5Yrs)\n",
    "houses['rem5Yrs'].describe()"
   ]
  },
  {
   "cell_type": "markdown",
   "id": "3f6fd7c1",
   "metadata": {},
   "source": [
    "# Create ordinal condition variable"
   ]
  },
  {
   "cell_type": "code",
   "execution_count": 28,
   "id": "6d29e786",
   "metadata": {},
   "outputs": [
    {
     "data": {
      "text/plain": [
       "count    768.000000\n",
       "mean       4.565538\n",
       "std        1.100045\n",
       "min        1.000000\n",
       "25%        4.000000\n",
       "50%        5.000000\n",
       "75%        5.500000\n",
       "max        6.000000\n",
       "Name: Condition, dtype: float64"
      ]
     },
     "execution_count": 28,
     "metadata": {},
     "output_type": "execute_result"
    }
   ],
   "source": [
    "def clean_condition(condition):\n",
    "    '''Takes in dataframe value and returns average condition number'''\n",
    "    \n",
    "    # Dictionary of conditions and values\n",
    "    cond = {'Tear Down': 1,\n",
    "            'Needs Major Repair': 2,\n",
    "            'Fair': 3,\n",
    "            'Average': 4,\n",
    "            'Above Average': 5,\n",
    "            'Excellent': 6}\n",
    "    \n",
    "    # Initialize list to hold conditions\n",
    "    av = []\n",
    "\n",
    "    # If there is no comma, return value of single condition    \n",
    "    if not re.search('\\,', condition):\n",
    "        \n",
    "        return cond[condition]\n",
    "    \n",
    "    else:\n",
    "        lst = condition.split(',')  # Split conditions on commas\n",
    "        for c in lst:\n",
    "            av.append(cond[c])  # Append condition number values to list\n",
    "            \n",
    "        return sum(av)/len(av)  # Return average number\n",
    "\n",
    "houses['Condition'] = houses['Condition'].apply(clean_condition)\n",
    "houses['Condition'].describe()"
   ]
  },
  {
   "cell_type": "markdown",
   "id": "361453fa",
   "metadata": {},
   "source": [
    "# Create pool binary variable"
   ]
  },
  {
   "cell_type": "code",
   "execution_count": 29,
   "id": "87643612",
   "metadata": {},
   "outputs": [
    {
     "data": {
      "text/plain": [
       "count      768\n",
       "unique      15\n",
       "top       None\n",
       "freq       725\n",
       "Name: Pool, dtype: object"
      ]
     },
     "execution_count": 29,
     "metadata": {},
     "output_type": "execute_result"
    }
   ],
   "source": [
    "houses['Pool'].describe()"
   ]
  },
  {
   "cell_type": "code",
   "execution_count": 30,
   "id": "c9ae2e1f",
   "metadata": {},
   "outputs": [
    {
     "data": {
      "text/plain": [
       "count    768.000000\n",
       "mean       0.055990\n",
       "std        0.230051\n",
       "min        0.000000\n",
       "25%        0.000000\n",
       "50%        0.000000\n",
       "75%        0.000000\n",
       "max        1.000000\n",
       "Name: Pool, dtype: float64"
      ]
     },
     "execution_count": 30,
     "metadata": {},
     "output_type": "execute_result"
    }
   ],
   "source": [
    "def pool(x):\n",
    "    'Returns 1 if property has a pool'\n",
    "    \n",
    "    if x =='None':\n",
    "        return 0\n",
    "    else: return 1\n",
    "        \n",
    "houses['Pool'] = houses['Pool'].apply(pool)\n",
    "houses['Pool'].describe()"
   ]
  },
  {
   "cell_type": "markdown",
   "id": "c50099b3",
   "metadata": {},
   "source": [
    "# Clean parking variable"
   ]
  },
  {
   "cell_type": "code",
   "execution_count": 31,
   "id": "97b4495e",
   "metadata": {},
   "outputs": [
    {
     "data": {
      "text/plain": [
       "count    768.000000\n",
       "mean       2.298177\n",
       "std        0.619877\n",
       "min        0.000000\n",
       "25%        2.000000\n",
       "50%        2.000000\n",
       "75%        3.000000\n",
       "max        3.000000\n",
       "Name: Parking2, dtype: float64"
      ]
     },
     "execution_count": 31,
     "metadata": {},
     "output_type": "execute_result"
    }
   ],
   "source": [
    "def clean_parking(park):\n",
    "    '''Returns first char of string if char is numeric'''\n",
    "\n",
    "    if park[0].isnumeric():\n",
    "        return int(park[0])\n",
    "    elif park == 'Street':  # If only street parking\n",
    "        return 0\n",
    "    else:\n",
    "        return 2  # Assume unspecified parking = 2 (median)\n",
    "    \n",
    "houses['Parking2'] = houses['Parking'].apply(clean_parking)\n",
    "\n",
    "houses['Parking2'].describe()"
   ]
  },
  {
   "cell_type": "markdown",
   "id": "7a8c6474",
   "metadata": {},
   "source": [
    "# Clean view variable"
   ]
  },
  {
   "cell_type": "code",
   "execution_count": 32,
   "id": "4ba42eff",
   "metadata": {},
   "outputs": [
    {
     "data": {
      "text/plain": [
       "count    768.000000\n",
       "mean       0.817708\n",
       "std        0.386336\n",
       "min        0.000000\n",
       "25%        1.000000\n",
       "50%        1.000000\n",
       "75%        1.000000\n",
       "max        1.000000\n",
       "Name: View, dtype: float64"
      ]
     },
     "execution_count": 32,
     "metadata": {},
     "output_type": "execute_result"
    }
   ],
   "source": [
    "def view(x):\n",
    "    'Returns 1 if property has a view'\n",
    "    \n",
    "    if x =='None':\n",
    "        return 0\n",
    "    else: return 1\n",
    "        \n",
    "houses['View'] = houses['View'].apply(view)\n",
    "houses['View'].describe()"
   ]
  },
  {
   "cell_type": "markdown",
   "id": "386535c3",
   "metadata": {},
   "source": [
    "# Clean easements variable"
   ]
  },
  {
   "cell_type": "code",
   "execution_count": 33,
   "id": "83c28d11",
   "metadata": {},
   "outputs": [
    {
     "data": {
      "text/plain": [
       "count    768.000000\n",
       "mean       0.513021\n",
       "std        0.500156\n",
       "min        0.000000\n",
       "25%        0.000000\n",
       "50%        1.000000\n",
       "75%        1.000000\n",
       "max        1.000000\n",
       "Name: Easements, dtype: float64"
      ]
     },
     "execution_count": 33,
     "metadata": {},
     "output_type": "execute_result"
    }
   ],
   "source": [
    "def easements(x):\n",
    "    'Returns 1 if property has an easement'\n",
    "    \n",
    "    if x =='None':\n",
    "        return 0\n",
    "    else: return 1\n",
    "        \n",
    "houses['Easements'] = houses['Easements'].apply(easements)\n",
    "houses['Easements'].describe()"
   ]
  },
  {
   "cell_type": "markdown",
   "id": "e1ad3e1c",
   "metadata": {},
   "source": [
    "# Create binary level/gentle slope variable"
   ]
  },
  {
   "cell_type": "code",
   "execution_count": 34,
   "id": "ae7daddf",
   "metadata": {},
   "outputs": [
    {
     "data": {
      "text/plain": [
       "count    768.000000\n",
       "mean       0.532552\n",
       "std        0.499264\n",
       "min        0.000000\n",
       "25%        0.000000\n",
       "50%        1.000000\n",
       "75%        1.000000\n",
       "max        1.000000\n",
       "Name: level, dtype: float64"
      ]
     },
     "execution_count": 34,
     "metadata": {},
     "output_type": "execute_result"
    }
   ],
   "source": [
    "def level(x):\n",
    "    'Returns 1 if property is gentle slope and level or level only'\n",
    "    \n",
    "    if x =='Level' or x == 'Gentle Slope,Level':\n",
    "        return 1\n",
    "    else: return 0\n",
    "        \n",
    "houses['level'] = houses['Topography'].apply(level)\n",
    "houses['level'].describe()"
   ]
  },
  {
   "cell_type": "markdown",
   "id": "3422e7f9",
   "metadata": {},
   "source": [
    "# Clean stories variable"
   ]
  },
  {
   "cell_type": "code",
   "execution_count": 35,
   "id": "d126582c",
   "metadata": {},
   "outputs": [
    {
     "data": {
      "text/plain": [
       "count    743.000000\n",
       "mean       1.559892\n",
       "std        0.584025\n",
       "min        1.000000\n",
       "25%        1.000000\n",
       "50%        2.000000\n",
       "75%        2.000000\n",
       "max        3.000000\n",
       "Name: Stories, dtype: float64"
      ]
     },
     "execution_count": 35,
     "metadata": {},
     "output_type": "execute_result"
    }
   ],
   "source": [
    "Basement=[]\n",
    "splitLevel=[]\n",
    "Stories=[]\n",
    "\n",
    "# Text to find\n",
    "regexb = re.compile('Basement')\n",
    "regexs = re.compile('Split Level')\n",
    "regex1 = re.compile('One')\n",
    "regex2 = re.compile('Two')\n",
    "regex3 = re.compile('Three+')\n",
    "\n",
    "\n",
    "for i in houses['Stories']:\n",
    "    \n",
    "    # Find basement\n",
    "    b = regexb.findall(i)\n",
    "    if b != []:\n",
    "        Basement.append(1)  # \n",
    "    else: \n",
    "        Basement.append(0)\n",
    "    \n",
    "    # Find split level\n",
    "    sl = regexs.findall(i)\n",
    "    if sl != []:\n",
    "        splitLevel.append(1)\n",
    "    else:\n",
    "        splitLevel.append(0)\n",
    "    \n",
    "    # Find # stories\n",
    "    st = regex3.findall(i)\n",
    "    if st != []:\n",
    "        Stories.append(3)\n",
    "    else:\n",
    "        st = regex2.findall(i)\n",
    "        if st != []:\n",
    "            Stories.append(2)\n",
    "        else:\n",
    "            st = regex1.findall(i)\n",
    "            if st != []:\n",
    "                Stories.append(1)\n",
    "            else:\n",
    "                Stories.append(None)\n",
    "                \n",
    "houses['Basement'] = Basement\n",
    "houses['Stories'] = Stories\n",
    "houses['splitLevel'] = splitLevel\n",
    "\n",
    "houses['Stories'].describe()"
   ]
  },
  {
   "cell_type": "code",
   "execution_count": 36,
   "id": "40828d46",
   "metadata": {},
   "outputs": [
    {
     "name": "stdout",
     "output_type": "stream",
     "text": [
      "CPR\n",
      "Photos\n",
      "Price\n",
      "Original Price\n",
      "Region\n",
      "Sold Price\n",
      "Sold Date\n",
      "Sold Ratio\n",
      "Orig. Ratio\n",
      "Beds\n",
      "Bath\n",
      "Living Sq Ft\n",
      "Land Sq Ft\n",
      "Year\n",
      "Remodeled\n",
      "List Date\n",
      "Days\n",
      "Condition\n",
      "Tax\n",
      "Total Fees\n",
      "Land.1\n",
      "Building\n",
      "Assessed Total\n",
      "Assessed Ratio\n",
      "Zoning\n",
      "Flood Zone\n",
      "View\n",
      "Frontage\n",
      "Pool\n",
      "Parking\n",
      "Flooring\n",
      "Roofing\n",
      "Roads\n",
      "Easements\n",
      "Topography\n",
      "Stories\n",
      "SoldDate\n",
      "ListDate\n",
      "priceInc\n",
      "priceDec\n",
      "largeCPR\n",
      "aboveOrig\n",
      "fullBaths\n",
      "halfBaths\n",
      "rem5Yrs\n",
      "Parking2\n",
      "level\n",
      "Basement\n",
      "splitLevel\n"
     ]
    }
   ],
   "source": [
    "for col in houses.columns:\n",
    "    print(col)"
   ]
  },
  {
   "cell_type": "code",
   "execution_count": 37,
   "id": "c2b2fc88",
   "metadata": {},
   "outputs": [],
   "source": [
    "houses.drop(['Price', 'Bath','Frontage','Flooring','Roofing','Roads',\n",
    "            'Topography','Sold Date', 'List Date','Remodeled','Parking'], axis=1, inplace=True)"
   ]
  },
  {
   "cell_type": "code",
   "execution_count": 38,
   "id": "0ced66a0",
   "metadata": {},
   "outputs": [],
   "source": [
    "houses.to_csv('Housing_clean.csv')"
   ]
  },
  {
   "cell_type": "code",
   "execution_count": null,
   "id": "6d0d4780",
   "metadata": {},
   "outputs": [],
   "source": []
  }
 ],
 "metadata": {
  "kernelspec": {
   "display_name": "Python 3 (ipykernel)",
   "language": "python",
   "name": "python3"
  },
  "language_info": {
   "codemirror_mode": {
    "name": "ipython",
    "version": 3
   },
   "file_extension": ".py",
   "mimetype": "text/x-python",
   "name": "python",
   "nbconvert_exporter": "python",
   "pygments_lexer": "ipython3",
   "version": "3.8.5"
  }
 },
 "nbformat": 4,
 "nbformat_minor": 5
}
